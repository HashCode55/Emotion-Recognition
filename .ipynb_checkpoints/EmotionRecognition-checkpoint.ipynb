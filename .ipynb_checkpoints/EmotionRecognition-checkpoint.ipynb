{
 "cells": [
  {
   "cell_type": "code",
   "execution_count": 1,
   "metadata": {
    "collapsed": true
   },
   "outputs": [],
   "source": [
    "#our ritual of including the libraries \n",
    "%matplotlib inline\n",
    "import sklearn\n",
    "import numpy as np\n",
    "import matplotlib.pyplot as plt\n",
    "import pandas as pd\n",
    "import glob\n",
    "from PIL import Image\n",
    "import itertools\n",
    "import seaborn as sns\n",
    "sns.set_style(\"whitegrid\")\n",
    "sns.set_context(\"poster\")\n",
    "#for saving the model\n",
    "from sklearn.externals import joblib"
   ]
  },
  {
   "cell_type": "code",
   "execution_count": 2,
   "metadata": {
    "collapsed": true
   },
   "outputs": [],
   "source": [
    "#Some global variable and utility functions \n",
    "STANDARD_SIZE = (256, 256)\n",
    "#reshape back the array\n",
    "def reshape_imgarr(img_arr):\n",
    "    reshaped_ = img_arr.reshape(256,256)\n",
    "    #return np.array([reshaped_, reshaped_, reshaped_])\n",
    "    return reshaped_\n",
    "#normalise the image\n",
    "def norm_image(img_arr):\n",
    "    img_arr = reshape_imgarr(img_arr)\n",
    "    img_arr = (img_arr - img_arr.min())/(img_arr.max() - img_arr.min())\n",
    "    img_arr *= 256\n",
    "    return np.round(img_arr)\n",
    "#display the image \n",
    "def show_image(img_arr):\n",
    "    img_arr = reshape_imgarr(img_arr)\n",
    "    with sns.axes_style(\"white\"):\n",
    "        plt.imshow(img_arr, cmap='Greys_r')\n",
    "        plt.xticks([])\n",
    "        plt.yticks([])\n",
    "#display the pca component        \n",
    "def display_component(img_arr):\n",
    "    img_arr = norm_image(img_arr)\n",
    "    with sns.axes_style(\"white\"):\n",
    "        plt.imshow(img_arr, cmap='Greys_r')\n",
    "        plt.xticks([])\n",
    "        plt.yticks([])"
   ]
  },
  {
   "cell_type": "code",
   "execution_count": null,
   "metadata": {
    "collapsed": true
   },
   "outputs": [],
   "source": []
  }
 ],
 "metadata": {
  "kernelspec": {
   "display_name": "Python 3",
   "language": "python",
   "name": "python3"
  },
  "language_info": {
   "codemirror_mode": {
    "name": "ipython",
    "version": 3
   },
   "file_extension": ".py",
   "mimetype": "text/x-python",
   "name": "python",
   "nbconvert_exporter": "python",
   "pygments_lexer": "ipython3",
   "version": "3.5.1"
  }
 },
 "nbformat": 4,
 "nbformat_minor": 0
}
